{
 "cells": [
  {
   "cell_type": "code",
   "execution_count": 1,
   "id": "750235a9",
   "metadata": {},
   "outputs": [],
   "source": [
    "import pandas as pd\n",
    "\n",
    "from sklearn.tree import DecisionTreeClassifier\n",
    "from sklearn.linear_model import LogisticRegression\n",
    "\n",
    "from sklearn.neighbors import KNeighborsClassifier\n",
    "from sklearn.svm import SVC\n",
    "\n",
    "from sklearn.preprocessing import StandardScaler\n",
    "\n",
    "from sklearn import metrics"
   ]
  },
  {
   "cell_type": "code",
   "execution_count": 2,
   "id": "e96d79b6",
   "metadata": {},
   "outputs": [
    {
     "data": {
      "text/html": [
       "<div>\n",
       "<style scoped>\n",
       "    .dataframe tbody tr th:only-of-type {\n",
       "        vertical-align: middle;\n",
       "    }\n",
       "\n",
       "    .dataframe tbody tr th {\n",
       "        vertical-align: top;\n",
       "    }\n",
       "\n",
       "    .dataframe thead th {\n",
       "        text-align: right;\n",
       "    }\n",
       "</style>\n",
       "<table border=\"1\" class=\"dataframe\">\n",
       "  <thead>\n",
       "    <tr style=\"text-align: right;\">\n",
       "      <th></th>\n",
       "      <th>City</th>\n",
       "      <th>Location_Score</th>\n",
       "      <th>Internal_Audit_Score</th>\n",
       "      <th>External_Audit_Score</th>\n",
       "      <th>Fin_Score</th>\n",
       "      <th>Loss_score</th>\n",
       "      <th>Past_Results</th>\n",
       "      <th>IsUnderRisk</th>\n",
       "    </tr>\n",
       "  </thead>\n",
       "  <tbody>\n",
       "    <tr>\n",
       "      <th>0</th>\n",
       "      <td>2</td>\n",
       "      <td>8.032</td>\n",
       "      <td>14</td>\n",
       "      <td>8</td>\n",
       "      <td>3</td>\n",
       "      <td>6</td>\n",
       "      <td>0</td>\n",
       "      <td>1</td>\n",
       "    </tr>\n",
       "    <tr>\n",
       "      <th>1</th>\n",
       "      <td>31</td>\n",
       "      <td>77.730</td>\n",
       "      <td>8</td>\n",
       "      <td>3</td>\n",
       "      <td>3</td>\n",
       "      <td>8</td>\n",
       "      <td>1</td>\n",
       "      <td>0</td>\n",
       "    </tr>\n",
       "    <tr>\n",
       "      <th>2</th>\n",
       "      <td>40</td>\n",
       "      <td>59.203</td>\n",
       "      <td>3</td>\n",
       "      <td>12</td>\n",
       "      <td>11</td>\n",
       "      <td>3</td>\n",
       "      <td>0</td>\n",
       "      <td>1</td>\n",
       "    </tr>\n",
       "    <tr>\n",
       "      <th>3</th>\n",
       "      <td>12</td>\n",
       "      <td>73.080</td>\n",
       "      <td>4</td>\n",
       "      <td>5</td>\n",
       "      <td>7</td>\n",
       "      <td>6</td>\n",
       "      <td>0</td>\n",
       "      <td>0</td>\n",
       "    </tr>\n",
       "    <tr>\n",
       "      <th>4</th>\n",
       "      <td>4</td>\n",
       "      <td>15.666</td>\n",
       "      <td>13</td>\n",
       "      <td>15</td>\n",
       "      <td>6</td>\n",
       "      <td>7</td>\n",
       "      <td>2</td>\n",
       "      <td>1</td>\n",
       "    </tr>\n",
       "  </tbody>\n",
       "</table>\n",
       "</div>"
      ],
      "text/plain": [
       "   City  Location_Score  Internal_Audit_Score  External_Audit_Score  \\\n",
       "0     2           8.032                    14                     8   \n",
       "1    31          77.730                     8                     3   \n",
       "2    40          59.203                     3                    12   \n",
       "3    12          73.080                     4                     5   \n",
       "4     4          15.666                    13                    15   \n",
       "\n",
       "   Fin_Score  Loss_score  Past_Results  IsUnderRisk  \n",
       "0          3           6             0            1  \n",
       "1          3           8             1            0  \n",
       "2         11           3             0            1  \n",
       "3          7           6             0            0  \n",
       "4          6           7             2            1  "
      ]
     },
     "execution_count": 2,
     "metadata": {},
     "output_type": "execute_result"
    }
   ],
   "source": [
    "data = pd.read_csv('Train.csv')\n",
    "\n",
    "data.head()"
   ]
  },
  {
   "cell_type": "code",
   "execution_count": 3,
   "id": "c7437b93",
   "metadata": {},
   "outputs": [
    {
     "data": {
      "text/plain": [
       "City                    0\n",
       "Location_Score          0\n",
       "Internal_Audit_Score    0\n",
       "External_Audit_Score    0\n",
       "Fin_Score               0\n",
       "Loss_score              0\n",
       "Past_Results            0\n",
       "IsUnderRisk             0\n",
       "dtype: int64"
      ]
     },
     "execution_count": 3,
     "metadata": {},
     "output_type": "execute_result"
    }
   ],
   "source": [
    "data.isnull().sum()"
   ]
  },
  {
   "cell_type": "code",
   "execution_count": 4,
   "id": "72a00b3f",
   "metadata": {},
   "outputs": [
    {
     "name": "stdout",
     "output_type": "stream",
     "text": [
      "<class 'pandas.core.frame.DataFrame'>\n",
      "RangeIndex: 543 entries, 0 to 542\n",
      "Data columns (total 8 columns):\n",
      " #   Column                Non-Null Count  Dtype  \n",
      "---  ------                --------------  -----  \n",
      " 0   City                  543 non-null    int64  \n",
      " 1   Location_Score        543 non-null    float64\n",
      " 2   Internal_Audit_Score  543 non-null    int64  \n",
      " 3   External_Audit_Score  543 non-null    int64  \n",
      " 4   Fin_Score             543 non-null    int64  \n",
      " 5   Loss_score            543 non-null    int64  \n",
      " 6   Past_Results          543 non-null    int64  \n",
      " 7   IsUnderRisk           543 non-null    int64  \n",
      "dtypes: float64(1), int64(7)\n",
      "memory usage: 34.1 KB\n"
     ]
    }
   ],
   "source": [
    "data.info()"
   ]
  },
  {
   "cell_type": "code",
   "execution_count": 5,
   "id": "c82dc8f7",
   "metadata": {},
   "outputs": [
    {
     "data": {
      "text/plain": [
       "<AxesSubplot:>"
      ]
     },
     "execution_count": 5,
     "metadata": {},
     "output_type": "execute_result"
    },
    {
     "data": {
      "image/png": "[encoded data removed]",
      "text/plain": [
       "<Figure size 432x288 with 1 Axes>"
      ]
     },
     "metadata": {
      "needs_background": "light"
     },
     "output_type": "display_data"
    }
   ],
   "source": [
    "data['IsUnderRisk'].value_counts().plot(kind = 'bar')"
   ]
  },
  {
   "cell_type": "code",
   "execution_count": 6,
   "id": "b4f174b6",
   "metadata": {},
   "outputs": [
    {
     "data": {
      "text/html": [
       "<div>\n",
       "<style scoped>\n",
       "    .dataframe tbody tr th:only-of-type {\n",
       "        vertical-align: middle;\n",
       "    }\n",
       "\n",
       "    .dataframe tbody tr th {\n",
       "        vertical-align: top;\n",
       "    }\n",
       "\n",
       "    .dataframe thead th {\n",
       "        text-align: right;\n",
       "    }\n",
       "</style>\n",
       "<table border=\"1\" class=\"dataframe\">\n",
       "  <thead>\n",
       "    <tr style=\"text-align: right;\">\n",
       "      <th></th>\n",
       "      <th>City</th>\n",
       "      <th>Location_Score</th>\n",
       "      <th>Internal_Audit_Score</th>\n",
       "      <th>External_Audit_Score</th>\n",
       "      <th>Fin_Score</th>\n",
       "      <th>Loss_score</th>\n",
       "      <th>Past_Results</th>\n",
       "      <th>IsUnderRisk</th>\n",
       "    </tr>\n",
       "  </thead>\n",
       "  <tbody>\n",
       "    <tr>\n",
       "      <th>536</th>\n",
       "      <td>6</td>\n",
       "      <td>74.338</td>\n",
       "      <td>8</td>\n",
       "      <td>7</td>\n",
       "      <td>6</td>\n",
       "      <td>4</td>\n",
       "      <td>0</td>\n",
       "      <td>0</td>\n",
       "    </tr>\n",
       "    <tr>\n",
       "      <th>236</th>\n",
       "      <td>3</td>\n",
       "      <td>67.946</td>\n",
       "      <td>8</td>\n",
       "      <td>7</td>\n",
       "      <td>13</td>\n",
       "      <td>8</td>\n",
       "      <td>1</td>\n",
       "      <td>1</td>\n",
       "    </tr>\n",
       "    <tr>\n",
       "      <th>7</th>\n",
       "      <td>23</td>\n",
       "      <td>74.132</td>\n",
       "      <td>11</td>\n",
       "      <td>15</td>\n",
       "      <td>5</td>\n",
       "      <td>8</td>\n",
       "      <td>0</td>\n",
       "      <td>1</td>\n",
       "    </tr>\n",
       "  </tbody>\n",
       "</table>\n",
       "</div>"
      ],
      "text/plain": [
       "     City  Location_Score  Internal_Audit_Score  External_Audit_Score  \\\n",
       "536     6          74.338                     8                     7   \n",
       "236     3          67.946                     8                     7   \n",
       "7      23          74.132                    11                    15   \n",
       "\n",
       "     Fin_Score  Loss_score  Past_Results  IsUnderRisk  \n",
       "536          6           4             0            0  \n",
       "236         13           8             1            1  \n",
       "7            5           8             0            1  "
      ]
     },
     "execution_count": 6,
     "metadata": {},
     "output_type": "execute_result"
    }
   ],
   "source": [
    "train = data.sample(frac = 0.8)\n",
    "valid = data.drop(train.index)\n",
    "\n",
    "train.head(3)"
   ]
  },
  {
   "cell_type": "code",
   "execution_count": 7,
   "id": "57929dc5",
   "metadata": {},
   "outputs": [
    {
     "data": {
      "text/html": [
       "<div>\n",
       "<style scoped>\n",
       "    .dataframe tbody tr th:only-of-type {\n",
       "        vertical-align: middle;\n",
       "    }\n",
       "\n",
       "    .dataframe tbody tr th {\n",
       "        vertical-align: top;\n",
       "    }\n",
       "\n",
       "    .dataframe thead th {\n",
       "        text-align: right;\n",
       "    }\n",
       "</style>\n",
       "<table border=\"1\" class=\"dataframe\">\n",
       "  <thead>\n",
       "    <tr style=\"text-align: right;\">\n",
       "      <th></th>\n",
       "      <th>City</th>\n",
       "      <th>Location_Score</th>\n",
       "      <th>Internal_Audit_Score</th>\n",
       "      <th>External_Audit_Score</th>\n",
       "      <th>Fin_Score</th>\n",
       "      <th>Loss_score</th>\n",
       "      <th>Past_Results</th>\n",
       "    </tr>\n",
       "  </thead>\n",
       "  <tbody>\n",
       "    <tr>\n",
       "      <th>536</th>\n",
       "      <td>6</td>\n",
       "      <td>74.338</td>\n",
       "      <td>8</td>\n",
       "      <td>7</td>\n",
       "      <td>6</td>\n",
       "      <td>4</td>\n",
       "      <td>0</td>\n",
       "    </tr>\n",
       "    <tr>\n",
       "      <th>236</th>\n",
       "      <td>3</td>\n",
       "      <td>67.946</td>\n",
       "      <td>8</td>\n",
       "      <td>7</td>\n",
       "      <td>13</td>\n",
       "      <td>8</td>\n",
       "      <td>1</td>\n",
       "    </tr>\n",
       "    <tr>\n",
       "      <th>7</th>\n",
       "      <td>23</td>\n",
       "      <td>74.132</td>\n",
       "      <td>11</td>\n",
       "      <td>15</td>\n",
       "      <td>5</td>\n",
       "      <td>8</td>\n",
       "      <td>0</td>\n",
       "    </tr>\n",
       "  </tbody>\n",
       "</table>\n",
       "</div>"
      ],
      "text/plain": [
       "     City  Location_Score  Internal_Audit_Score  External_Audit_Score  \\\n",
       "536     6          74.338                     8                     7   \n",
       "236     3          67.946                     8                     7   \n",
       "7      23          74.132                    11                    15   \n",
       "\n",
       "     Fin_Score  Loss_score  Past_Results  \n",
       "536          6           4             0  \n",
       "236         13           8             1  \n",
       "7            5           8             0  "
      ]
     },
     "execution_count": 7,
     "metadata": {},
     "output_type": "execute_result"
    }
   ],
   "source": [
    "X_train, y_train = train.drop('IsUnderRisk', axis = 1), train.IsUnderRisk\n",
    "X_valid, y_valid = valid.drop('IsUnderRisk', axis = 1), valid.IsUnderRisk\n",
    "\n",
    "X_train.head(3)"
   ]
  },
  {
   "cell_type": "code",
   "execution_count": 8,
   "id": "7268a770",
   "metadata": {},
   "outputs": [
    {
     "data": {
      "text/plain": [
       "536    0\n",
       "236    1\n",
       "7      1\n",
       "Name: IsUnderRisk, dtype: int64"
      ]
     },
     "execution_count": 8,
     "metadata": {},
     "output_type": "execute_result"
    }
   ],
   "source": [
    "y_train.head(3)"
   ]
  },
  {
   "cell_type": "markdown",
   "id": "f5887d1e",
   "metadata": {},
   "source": [
    "## DecisionTreeCLassifier"
   ]
  },
  {
   "cell_type": "code",
   "execution_count": 9,
   "id": "a16d2df2",
   "metadata": {},
   "outputs": [
    {
     "data": {
      "text/plain": [
       "DecisionTreeClassifier(random_state=11)"
      ]
     },
     "execution_count": 9,
     "metadata": {},
     "output_type": "execute_result"
    }
   ],
   "source": [
    "model_dt = DecisionTreeClassifier(random_state = 11)\n",
    "model_dt.fit(X_train, y_train)"
   ]
  },
  {
   "cell_type": "code",
   "execution_count": 10,
   "id": "d7b5e57b",
   "metadata": {},
   "outputs": [
    {
     "name": "stdout",
     "output_type": "stream",
     "text": [
      "Accuracy: 0.8715596330275229\n",
      "\n",
      "Confusion Matrix\n"
     ]
    },
    {
     "data": {
      "text/plain": [
       "array([[39,  6],\n",
       "       [ 8, 56]], dtype=int64)"
      ]
     },
     "execution_count": 10,
     "metadata": {},
     "output_type": "execute_result"
    }
   ],
   "source": [
    "preds_dt = model_dt.predict(X_valid)\n",
    "\n",
    "# Accuracy\n",
    "acc_dt = metrics.accuracy_score(y_valid, preds_dt)\n",
    "print(f'Accuracy: {acc_dt}')\n",
    "\n",
    "# Confusion_Matrix\n",
    "conf_dt = metrics.confusion_matrix(y_valid, preds_dt)\n",
    "print('\\nConfusion Matrix')\n",
    "conf_dt"
   ]
  },
  {
   "cell_type": "markdown",
   "id": "1970141b",
   "metadata": {},
   "source": [
    "## LogisticRegression"
   ]
  },
  {
   "cell_type": "code",
   "execution_count": 11,
   "id": "549d61ab",
   "metadata": {},
   "outputs": [
    {
     "data": {
      "text/plain": [
       "LogisticRegression()"
      ]
     },
     "execution_count": 11,
     "metadata": {},
     "output_type": "execute_result"
    }
   ],
   "source": [
    "model_lr = LogisticRegression()\n",
    "model_lr.fit(X_train, y_train)"
   ]
  },
  {
   "cell_type": "code",
   "execution_count": 12,
   "id": "e6b66617",
   "metadata": {},
   "outputs": [
    {
     "name": "stdout",
     "output_type": "stream",
     "text": [
      "Accuracy: 0.8532110091743119\n",
      "\n",
      "Confusion Matrix\n"
     ]
    },
    {
     "data": {
      "text/plain": [
       "array([[40,  5],\n",
       "       [11, 53]], dtype=int64)"
      ]
     },
     "execution_count": 12,
     "metadata": {},
     "output_type": "execute_result"
    }
   ],
   "source": [
    "preds_lr = model_lr.predict(X_valid)\n",
    "\n",
    "# Accuracy\n",
    "acc_lr = metrics.accuracy_score(y_valid, preds_lr)\n",
    "print(f'Accuracy: {acc_lr}')\n",
    "\n",
    "# Confusion_Matrix\n",
    "cm_lr = metrics.confusion_matrix(y_valid, preds_lr)\n",
    "print('\\nConfusion Matrix')\n",
    "cm_lr"
   ]
  },
  {
   "cell_type": "markdown",
   "id": "b094c5fd",
   "metadata": {},
   "source": [
    "## KNeighborsClassifier"
   ]
  },
  {
   "cell_type": "code",
   "execution_count": 13,
   "id": "a8214617",
   "metadata": {},
   "outputs": [
    {
     "data": {
      "text/plain": [
       "KNeighborsClassifier()"
      ]
     },
     "execution_count": 13,
     "metadata": {},
     "output_type": "execute_result"
    }
   ],
   "source": [
    "model_knn = KNeighborsClassifier()\n",
    "model_knn.fit(X_train, y_train)"
   ]
  },
  {
   "cell_type": "code",
   "execution_count": 14,
   "id": "1c4b5530",
   "metadata": {},
   "outputs": [
    {
     "name": "stdout",
     "output_type": "stream",
     "text": [
      "Accuracy: 0.8073394495412844\n",
      "\n",
      "Confusion Matrix\n"
     ]
    },
    {
     "data": {
      "text/plain": [
       "array([[32, 13],\n",
       "       [ 8, 56]], dtype=int64)"
      ]
     },
     "execution_count": 14,
     "metadata": {},
     "output_type": "execute_result"
    }
   ],
   "source": [
    "preds_knn = model_knn.predict(X_valid)\n",
    "\n",
    "# Accuracy\n",
    "acc_knn = metrics.accuracy_score(y_valid, preds_knn)\n",
    "print(f'Accuracy: {acc_knn}')\n",
    "\n",
    "# Confusion Matrix\n",
    "cm_knn = metrics.confusion_matrix(y_valid, preds_knn)\n",
    "print('\\nConfusion Matrix')\n",
    "\n",
    "cm_knn"
   ]
  },
  {
   "cell_type": "markdown",
   "id": "ccf56ccf",
   "metadata": {},
   "source": [
    "## SupportVectorClassifier"
   ]
  },
  {
   "cell_type": "code",
   "execution_count": 15,
   "id": "26f027cf",
   "metadata": {},
   "outputs": [
    {
     "data": {
      "text/plain": [
       "SVC()"
      ]
     },
     "execution_count": 15,
     "metadata": {},
     "output_type": "execute_result"
    }
   ],
   "source": [
    "model_svc = SVC()\n",
    "model_svc.fit(X_train, y_train)"
   ]
  },
  {
   "cell_type": "code",
   "execution_count": 16,
   "id": "54132306",
   "metadata": {},
   "outputs": [
    {
     "name": "stdout",
     "output_type": "stream",
     "text": [
      "Accuracy: 0.7981651376146789\n",
      "\n",
      "Confusion Matrix\n"
     ]
    },
    {
     "data": {
      "text/plain": [
       "array([[31, 14],\n",
       "       [ 8, 56]], dtype=int64)"
      ]
     },
     "execution_count": 16,
     "metadata": {},
     "output_type": "execute_result"
    }
   ],
   "source": [
    "preds_svc = model_svc.predict(X_valid)\n",
    "\n",
    "# Accuracy\n",
    "acc_svc = metrics.accuracy_score(y_valid, preds_svc)\n",
    "print(f'Accuracy: {acc_svc}')\n",
    "\n",
    "# Confusion Matrix\n",
    "cm_svc = metrics.confusion_matrix(y_valid, preds_svc)\n",
    "print('\\nConfusion Matrix')\n",
    "cm_svc"
   ]
  },
  {
   "cell_type": "markdown",
   "id": "175aea73",
   "metadata": {},
   "source": [
    "### Using scaled data"
   ]
  },
  {
   "cell_type": "code",
   "execution_count": 17,
   "id": "ecc50ca1",
   "metadata": {},
   "outputs": [],
   "source": [
    "# Scaler Function\n",
    "scaler = StandardScaler()"
   ]
  },
  {
   "cell_type": "code",
   "execution_count": 18,
   "id": "0b70ae72",
   "metadata": {},
   "outputs": [
    {
     "data": {
      "text/plain": [
       "array([[-0.91468796,  1.71390893, -0.10484203, ..., -0.34192558,\n",
       "        -0.80379115, -0.90260835],\n",
       "       [-1.11712273,  1.45559868, -0.10484203, ...,  1.85885815,\n",
       "         1.41110003,  0.58686702],\n",
       "       [ 0.23244238,  1.70558416,  0.81129436, ..., -0.65632326,\n",
       "         1.41110003, -0.90260835],\n",
       "       ...,\n",
       "       [ 0.77226842, -0.69158501,  1.11667315, ..., -0.02752791,\n",
       "         1.41110003,  0.58686702],\n",
       "       [ 0.77226842,  0.00369467, -0.10484203, ..., -0.97072094,\n",
       "        -0.25006836,  0.58686702],\n",
       "       [-1.04964447, -0.55988397,  0.50591556, ..., -0.97072094,\n",
       "        -1.35751395,  0.58686702]])"
      ]
     },
     "execution_count": 18,
     "metadata": {},
     "output_type": "execute_result"
    }
   ],
   "source": [
    "# Scaling training and validation sets\n",
    "# Using train set to fit the scaler\n",
    "# And scale the set\n",
    "X_train_s = scaler.fit_transform(X_train)\n",
    "\n",
    "X_train_s"
   ]
  },
  {
   "cell_type": "code",
   "execution_count": 19,
   "id": "f59a2b69",
   "metadata": {},
   "outputs": [
    {
     "data": {
      "text/html": [
       "<div>\n",
       "<style scoped>\n",
       "    .dataframe tbody tr th:only-of-type {\n",
       "        vertical-align: middle;\n",
       "    }\n",
       "\n",
       "    .dataframe tbody tr th {\n",
       "        vertical-align: top;\n",
       "    }\n",
       "\n",
       "    .dataframe thead th {\n",
       "        text-align: right;\n",
       "    }\n",
       "</style>\n",
       "<table border=\"1\" class=\"dataframe\">\n",
       "  <thead>\n",
       "    <tr style=\"text-align: right;\">\n",
       "      <th></th>\n",
       "      <th>City</th>\n",
       "      <th>Location_Score</th>\n",
       "      <th>Internal_Audit_Score</th>\n",
       "      <th>External_Audit_Score</th>\n",
       "      <th>Fin_Score</th>\n",
       "      <th>Loss_score</th>\n",
       "      <th>Past_Results</th>\n",
       "    </tr>\n",
       "  </thead>\n",
       "  <tbody>\n",
       "    <tr>\n",
       "      <th>0</th>\n",
       "      <td>-0.914688</td>\n",
       "      <td>1.713909</td>\n",
       "      <td>-0.104842</td>\n",
       "      <td>-0.096936</td>\n",
       "      <td>-0.341926</td>\n",
       "      <td>-0.803791</td>\n",
       "      <td>-0.902608</td>\n",
       "    </tr>\n",
       "    <tr>\n",
       "      <th>1</th>\n",
       "      <td>-1.117123</td>\n",
       "      <td>1.455599</td>\n",
       "      <td>-0.104842</td>\n",
       "      <td>-0.096936</td>\n",
       "      <td>1.858858</td>\n",
       "      <td>1.411100</td>\n",
       "      <td>0.586867</td>\n",
       "    </tr>\n",
       "    <tr>\n",
       "      <th>2</th>\n",
       "      <td>0.232442</td>\n",
       "      <td>1.705584</td>\n",
       "      <td>0.811294</td>\n",
       "      <td>2.208289</td>\n",
       "      <td>-0.656323</td>\n",
       "      <td>1.411100</td>\n",
       "      <td>-0.902608</td>\n",
       "    </tr>\n",
       "    <tr>\n",
       "      <th>3</th>\n",
       "      <td>-0.914688</td>\n",
       "      <td>0.236869</td>\n",
       "      <td>-0.104842</td>\n",
       "      <td>-0.673243</td>\n",
       "      <td>-0.970721</td>\n",
       "      <td>-0.250068</td>\n",
       "      <td>0.586867</td>\n",
       "    </tr>\n",
       "    <tr>\n",
       "      <th>4</th>\n",
       "      <td>-0.982166</td>\n",
       "      <td>1.664324</td>\n",
       "      <td>0.505916</td>\n",
       "      <td>0.191217</td>\n",
       "      <td>-0.970721</td>\n",
       "      <td>1.411100</td>\n",
       "      <td>-0.902608</td>\n",
       "    </tr>\n",
       "  </tbody>\n",
       "</table>\n",
       "</div>"
      ],
      "text/plain": [
       "       City  Location_Score  Internal_Audit_Score  External_Audit_Score  \\\n",
       "0 -0.914688        1.713909             -0.104842             -0.096936   \n",
       "1 -1.117123        1.455599             -0.104842             -0.096936   \n",
       "2  0.232442        1.705584              0.811294              2.208289   \n",
       "3 -0.914688        0.236869             -0.104842             -0.673243   \n",
       "4 -0.982166        1.664324              0.505916              0.191217   \n",
       "\n",
       "   Fin_Score  Loss_score  Past_Results  \n",
       "0  -0.341926   -0.803791     -0.902608  \n",
       "1   1.858858    1.411100      0.586867  \n",
       "2  -0.656323    1.411100     -0.902608  \n",
       "3  -0.970721   -0.250068      0.586867  \n",
       "4  -0.970721    1.411100     -0.902608  "
      ]
     },
     "execution_count": 19,
     "metadata": {},
     "output_type": "execute_result"
    }
   ],
   "source": [
    "# Convert to dataframe\n",
    "X_train_s = pd.DataFrame(X_train_s, columns = X_train.columns)\n",
    "X_train_s.head()"
   ]
  },
  {
   "cell_type": "code",
   "execution_count": 20,
   "id": "582231c6",
   "metadata": {},
   "outputs": [],
   "source": [
    "# X_train_s = X_train_s.reindex(X_train.index)\n",
    "# X_train_s.head()"
   ]
  },
  {
   "cell_type": "code",
   "execution_count": 21,
   "id": "625cd594",
   "metadata": {},
   "outputs": [
    {
     "data": {
      "text/plain": [
       "City                    0\n",
       "Location_Score          0\n",
       "Internal_Audit_Score    0\n",
       "External_Audit_Score    0\n",
       "Fin_Score               0\n",
       "Loss_score              0\n",
       "Past_Results            0\n",
       "dtype: int64"
      ]
     },
     "execution_count": 21,
     "metadata": {},
     "output_type": "execute_result"
    }
   ],
   "source": [
    "X_train_s.isnull().sum()"
   ]
  },
  {
   "cell_type": "code",
   "execution_count": 22,
   "id": "a03fa9d8",
   "metadata": {},
   "outputs": [
    {
     "data": {
      "text/html": [
       "<div>\n",
       "<style scoped>\n",
       "    .dataframe tbody tr th:only-of-type {\n",
       "        vertical-align: middle;\n",
       "    }\n",
       "\n",
       "    .dataframe tbody tr th {\n",
       "        vertical-align: top;\n",
       "    }\n",
       "\n",
       "    .dataframe thead th {\n",
       "        text-align: right;\n",
       "    }\n",
       "</style>\n",
       "<table border=\"1\" class=\"dataframe\">\n",
       "  <thead>\n",
       "    <tr style=\"text-align: right;\">\n",
       "      <th></th>\n",
       "      <th>City</th>\n",
       "      <th>Location_Score</th>\n",
       "      <th>Internal_Audit_Score</th>\n",
       "      <th>External_Audit_Score</th>\n",
       "      <th>Fin_Score</th>\n",
       "      <th>Loss_score</th>\n",
       "      <th>Past_Results</th>\n",
       "    </tr>\n",
       "  </thead>\n",
       "  <tbody>\n",
       "    <tr>\n",
       "      <th>0</th>\n",
       "      <td>-1.252079</td>\n",
       "      <td>-1.038154</td>\n",
       "      <td>0.505916</td>\n",
       "      <td>0.767523</td>\n",
       "      <td>1.544460</td>\n",
       "      <td>-1.357514</td>\n",
       "      <td>0.586867</td>\n",
       "    </tr>\n",
       "    <tr>\n",
       "      <th>1</th>\n",
       "      <td>-1.049644</td>\n",
       "      <td>1.761433</td>\n",
       "      <td>-0.104842</td>\n",
       "      <td>1.343830</td>\n",
       "      <td>-0.970721</td>\n",
       "      <td>-0.803791</td>\n",
       "      <td>-0.902608</td>\n",
       "    </tr>\n",
       "    <tr>\n",
       "      <th>2</th>\n",
       "      <td>-1.319557</td>\n",
       "      <td>0.104885</td>\n",
       "      <td>0.811294</td>\n",
       "      <td>0.767523</td>\n",
       "      <td>2.173256</td>\n",
       "      <td>-1.357514</td>\n",
       "      <td>0.586867</td>\n",
       "    </tr>\n",
       "    <tr>\n",
       "      <th>3</th>\n",
       "      <td>-0.037471</td>\n",
       "      <td>-0.904796</td>\n",
       "      <td>-1.631736</td>\n",
       "      <td>-0.096936</td>\n",
       "      <td>-0.656323</td>\n",
       "      <td>0.857377</td>\n",
       "      <td>-0.902608</td>\n",
       "    </tr>\n",
       "    <tr>\n",
       "      <th>4</th>\n",
       "      <td>-1.184601</td>\n",
       "      <td>-0.398440</td>\n",
       "      <td>-0.410221</td>\n",
       "      <td>-1.249549</td>\n",
       "      <td>0.286870</td>\n",
       "      <td>-0.250068</td>\n",
       "      <td>0.586867</td>\n",
       "    </tr>\n",
       "  </tbody>\n",
       "</table>\n",
       "</div>"
      ],
      "text/plain": [
       "       City  Location_Score  Internal_Audit_Score  External_Audit_Score  \\\n",
       "0 -1.252079       -1.038154              0.505916              0.767523   \n",
       "1 -1.049644        1.761433             -0.104842              1.343830   \n",
       "2 -1.319557        0.104885              0.811294              0.767523   \n",
       "3 -0.037471       -0.904796             -1.631736             -0.096936   \n",
       "4 -1.184601       -0.398440             -0.410221             -1.249549   \n",
       "\n",
       "   Fin_Score  Loss_score  Past_Results  \n",
       "0   1.544460   -1.357514      0.586867  \n",
       "1  -0.970721   -0.803791     -0.902608  \n",
       "2   2.173256   -1.357514      0.586867  \n",
       "3  -0.656323    0.857377     -0.902608  \n",
       "4   0.286870   -0.250068      0.586867  "
      ]
     },
     "execution_count": 22,
     "metadata": {},
     "output_type": "execute_result"
    }
   ],
   "source": [
    "# Scaling validation set\n",
    "X_valid_s = pd.DataFrame(scaler.transform(X_valid), columns = X_valid.columns)\n",
    "# X_valid_s = X_valid_s.reindex(X_valid.index)\n",
    "\n",
    "X_valid_s.head()"
   ]
  },
  {
   "cell_type": "code",
   "execution_count": 23,
   "id": "3623397c",
   "metadata": {},
   "outputs": [
    {
     "data": {
      "text/plain": [
       "City                    0\n",
       "Location_Score          0\n",
       "Internal_Audit_Score    0\n",
       "External_Audit_Score    0\n",
       "Fin_Score               0\n",
       "Loss_score              0\n",
       "Past_Results            0\n",
       "dtype: int64"
      ]
     },
     "execution_count": 23,
     "metadata": {},
     "output_type": "execute_result"
    }
   ],
   "source": [
    "X_valid_s.isnull().sum()"
   ]
  },
  {
   "cell_type": "code",
   "execution_count": null,
   "id": "cb155608",
   "metadata": {},
   "outputs": [],
   "source": []
  },
  {
   "cell_type": "code",
   "execution_count": 24,
   "id": "3f9795e5",
   "metadata": {},
   "outputs": [],
   "source": [
    "def train_evaluate(X_train, y_train, X_valid, y_valid, model):\n",
    "    \n",
    "    if model == 'decisiontree':\n",
    "        model = DecisionTreeClassifier(random_state = 11)\n",
    "        model.fit(X_train, y_train)\n",
    "        \n",
    "        preds = model.predict(X_valid)\n",
    "        \n",
    "        print('DecisionTree')\n",
    "        print('----------------------')\n",
    "        # Accuracy\n",
    "        acc = metrics.accuracy_score(y_valid, preds)\n",
    "        print('Accuracy: ', acc)\n",
    "        print('\\n.................................')\n",
    "        print('Confusion Matrix')\n",
    "        cm = metrics.confusion_matrix(y_valid, preds)\n",
    "        print(cm)\n",
    "        \n",
    "    elif model == 'logisticregression':\n",
    "        model = LogisticRegression()\n",
    "        model.fit(X_train, y_train)\n",
    "        \n",
    "        preds = model.predict(X_valid)\n",
    "        \n",
    "        print('LogisticRegression')\n",
    "        print('----------------------')\n",
    "        # Accuracy\n",
    "        acc = metrics.accuracy_score(y_valid, preds)\n",
    "        print('Accuracy: ', acc)\n",
    "        print('\\n.................................')\n",
    "        print('Confusion Matrix')\n",
    "        cm = metrics.confusion_matrix(y_valid, preds)\n",
    "        print(cm)\n",
    "        \n",
    "    elif model == 'knn':\n",
    "        model = KNeighborsClassifier()        \n",
    "        model.fit(X_train, y_train)\n",
    "        \n",
    "        preds = model.predict(X_valid)\n",
    "        \n",
    "        print('KNeighborsClassifier')\n",
    "        print('----------------------')\n",
    "        # Accuracy\n",
    "        acc = metrics.accuracy_score(y_valid, preds)\n",
    "        print('Accuracy: ', acc)\n",
    "        print('\\n.................................')\n",
    "        print('Confusion Matrix')\n",
    "        cm = metrics.confusion_matrix(y_valid, preds)\n",
    "        print(cm)\n",
    "        \n",
    "    elif model == 'svc':\n",
    "        model = SVC()\n",
    "        model.fit(X_train, y_train)\n",
    "        \n",
    "        preds = model.predict(X_valid)\n",
    "        \n",
    "        print('SupportVector Classifier')\n",
    "        print('----------------------')\n",
    "        # Accuracy\n",
    "        acc = metrics.accuracy_score(y_valid, preds)\n",
    "        print('Accuracy: ', acc)\n",
    "        print('\\n.................................')\n",
    "        print('Confusion Matrix')\n",
    "        cm = metrics.confusion_matrix(y_valid, preds)\n",
    "        print(cm)"
   ]
  },
  {
   "cell_type": "code",
   "execution_count": 25,
   "id": "246a32db",
   "metadata": {},
   "outputs": [
    {
     "name": "stdout",
     "output_type": "stream",
     "text": [
      "DecisionTree\n",
      "----------------------\n",
      "Accuracy:  0.8715596330275229\n",
      "\n",
      ".................................\n",
      "Confusion Matrix\n",
      "[[39  6]\n",
      " [ 8 56]]\n"
     ]
    }
   ],
   "source": [
    "train_evaluate(X_train_s, y_train, X_valid_s, y_valid, 'decisiontree')"
   ]
  },
  {
   "cell_type": "code",
   "execution_count": 26,
   "id": "2439891b",
   "metadata": {},
   "outputs": [
    {
     "name": "stdout",
     "output_type": "stream",
     "text": [
      "LogisticRegression\n",
      "----------------------\n",
      "Accuracy:  0.8440366972477065\n",
      "\n",
      ".................................\n",
      "Confusion Matrix\n",
      "[[39  6]\n",
      " [11 53]]\n"
     ]
    }
   ],
   "source": [
    "train_evaluate(X_train_s, y_train, X_valid_s, y_valid, 'logisticregression')"
   ]
  },
  {
   "cell_type": "code",
   "execution_count": 27,
   "id": "5921637d",
   "metadata": {},
   "outputs": [
    {
     "name": "stdout",
     "output_type": "stream",
     "text": [
      "KNeighborsClassifier\n",
      "----------------------\n",
      "Accuracy:  0.8256880733944955\n",
      "\n",
      ".................................\n",
      "Confusion Matrix\n",
      "[[36  9]\n",
      " [10 54]]\n"
     ]
    }
   ],
   "source": [
    "train_evaluate(X_train_s, y_train, X_valid_s, y_valid, 'knn')"
   ]
  },
  {
   "cell_type": "code",
   "execution_count": 28,
   "id": "ef99e819",
   "metadata": {},
   "outputs": [
    {
     "name": "stdout",
     "output_type": "stream",
     "text": [
      "SupportVector Classifier\n",
      "----------------------\n",
      "Accuracy:  0.8623853211009175\n",
      "\n",
      ".................................\n",
      "Confusion Matrix\n",
      "[[40  5]\n",
      " [10 54]]\n"
     ]
    }
   ],
   "source": [
    "train_evaluate(X_train_s, y_train, X_valid_s, y_valid, 'svc')"
   ]
  },
  {
   "cell_type": "code",
   "execution_count": null,
   "id": "c2fe30e1",
   "metadata": {},
   "outputs": [],
   "source": []
  }
 ],
 "metadata": {
  "kernelspec": {
   "display_name": "Python 3",
   "language": "python",
   "name": "python3"
  },
  "language_info": {
   "codemirror_mode": {
    "name": "ipython",
    "version": 3
   },
   "file_extension": ".py",
   "mimetype": "text/x-python",
   "name": "python",
   "nbconvert_exporter": "python",
   "pygments_lexer": "ipython3",
   "version": "3.8.8"
  }
 },
 "nbformat": 4,
 "nbformat_minor": 5
}
